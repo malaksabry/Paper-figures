{
 "cells": [
  {
   "cell_type": "code",
   "execution_count": 1,
   "id": "02c9d4f3",
   "metadata": {},
   "outputs": [],
   "source": [
    "%matplotlib notebook\n",
    "from ipywidgets import *\n",
    "import numpy as np\n",
    "import pandas as pd\n",
    "import matplotlib.pyplot as plt\n",
    "import ipywidgets as widgets\n",
    "from sklearn.linear_model import LinearRegression\n",
    "from sklearn.metrics import r2_score\n",
    "from ipywidgets import interact\n",
    "\n",
    "shape = pd.read_csv('Shape.csv')\n",
    "\n",
    "x_data_1 = np.array(shape['t_vortex_test'])\n",
    "x_data_2 = np.array(shape['mPAP'])\n",
    "shape_params = shape.iloc[:, 1:15]\n",
    "y_data = np.array((shape_params)).T\n",
    "\n",
    "selected_columns = shape.iloc[:, 1:15].columns\n",
    "\n",
    "# Convert the column names to a list of strings\n",
    "params = selected_columns.tolist()\n"
   ]
  },
  {
   "cell_type": "code",
   "execution_count": 3,
   "id": "b2e2bba6",
   "metadata": {},
   "outputs": [],
   "source": [
    "from scipy.stats import linregress\n",
    "\n",
    "r_squared_t =[]\n",
    "r_squared_p =[]\n",
    "\n",
    "for i in range(len(params)):\n",
    "\n",
    "    slope, intercept, r_value_1, p_value, std_err = linregress(y_data[i], x_data_1)\n",
    "    r2_1 = r_value_1**2\n",
    "    slope, intercept, r_value_2, p_value, std_err = linregress(y_data[i], x_data_2)\n",
    "    r2_2 = r_value_2**2\n",
    "    \n",
    "    r_squared_t.append(r2_1)\n",
    "    r_squared_p.append(r2_2)\n",
    "    \n",
    "data = {'Parameters': params,\n",
    "        'R_squared_T': r_squared_t,\n",
    "       'R_squared_P': r_squared_p}\n",
    "\n",
    "df = pd.DataFrame(data)\n"
   ]
  },
  {
   "cell_type": "code",
   "execution_count": 5,
   "id": "2039c7c6",
   "metadata": {
    "scrolled": true
   },
   "outputs": [
    {
     "data": {
      "application/vnd.jupyter.widget-view+json": {
       "model_id": "a34b30514b2b423fa65af9d67b471241",
       "version_major": 2,
       "version_minor": 0
      },
      "text/plain": [
       "interactive(children=(Checkbox(value=True, description='Bif angle'), Checkbox(value=True, description='L_MPA')…"
      ]
     },
     "metadata": {},
     "output_type": "display_data"
    }
   ],
   "source": [
    "import plotly.graph_objects as go\n",
    "from scipy.stats import linregress\n",
    "\n",
    "def interactive_selection_plot(df, y_arrays):\n",
    "  \n",
    "  def update_plot(**kwargs):\n",
    "\n",
    "    # Create the Figure\n",
    "    fig = go.FigureWidget()\n",
    "    filtered_df = pd.DataFrame()\n",
    "    \n",
    "    \n",
    "    for i, (checkbox_name, selected) in enumerate(kwargs.items()):\n",
    "        if i in range(len(df)):\n",
    "          if selected:\n",
    "            filtered_df = pd.concat([filtered_df, pd.DataFrame(df.loc[i]).T], ignore_index=True)\n",
    "        \n",
    "    # Create traces based on selected y-arrays\n",
    "    traces = []\n",
    "    selected_y_array = kwargs.get('y_array')\n",
    "    for y_array in y_arrays:\n",
    "        if selected_y_array == y_array:\n",
    "            traces.append(go.Bar(x=filtered_df['Parameters'],\n",
    "                                y=np.array(filtered_df[y_array]),\n",
    "                                name=y_array))\n",
    "\n",
    "    # Add traces to the figure\n",
    "    fig.add_traces(traces)\n",
    "    \n",
    "    # Customize Layout\n",
    "    fig.update_layout(\n",
    "    title='Interactive Bar Chart with R-squared',\n",
    "    xaxis_title='Parameter',\n",
    "    yaxis_title='R2')\n",
    "    \n",
    "    # Display the Figure\n",
    "    fig.show()\n",
    "\n",
    "    \n",
    "  # Create checkboxes for each data set\n",
    "  checkboxes = {}\n",
    "  for i, parameter in enumerate(df['Parameters']):\n",
    "    checkbox = widgets.Checkbox(value=True, description=str(df['Parameters'][i]))\n",
    "    checkboxes[f'checkbox_{i+1}'] = checkbox\n",
    "\n",
    "  \n",
    "\n",
    "  y_array_dropdown = widgets.Dropdown(\n",
    "                options=y_arrays,\n",
    "                description='Y-array:',\n",
    "                value=y_arrays[0])  # Default selection\n",
    "  checkboxes_tuple = tuple(checkboxes.values())\n",
    "  layout = widgets.VBox([widgets.HBox(checkboxes_tuple), y_array_dropdown])\n",
    "  interact(update_plot, **checkboxes, y_array=y_array_dropdown)\n",
    "\n",
    "\n",
    "y_arrays = ['R_squared_T', 'R_squared_P']\n",
    "interactive_selection_plot(df, y_arrays)\n",
    "\n",
    "\n",
    "\n"
   ]
  },
  {
   "cell_type": "code",
   "execution_count": null,
   "id": "91aa2601",
   "metadata": {},
   "outputs": [],
   "source": []
  }
 ],
 "metadata": {
  "kernelspec": {
   "display_name": "Python 3 (ipykernel)",
   "language": "python",
   "name": "python3"
  },
  "language_info": {
   "codemirror_mode": {
    "name": "ipython",
    "version": 3
   },
   "file_extension": ".py",
   "mimetype": "text/x-python",
   "name": "python",
   "nbconvert_exporter": "python",
   "pygments_lexer": "ipython3",
   "version": "3.10.9"
  }
 },
 "nbformat": 4,
 "nbformat_minor": 5
}
