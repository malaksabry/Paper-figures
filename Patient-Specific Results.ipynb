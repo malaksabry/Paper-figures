{
 "cells": [
  {
   "cell_type": "code",
   "execution_count": 1,
   "id": "a15e0e4f",
   "metadata": {},
   "outputs": [],
   "source": [
    "%matplotlib notebook\n",
    "from ipywidgets import *\n",
    "import numpy as np\n",
    "import pandas as pd\n",
    "import matplotlib.pyplot as plt\n",
    "import ipywidgets as widgets\n",
    "from sklearn.linear_model import LinearRegression\n",
    "from sklearn.metrics import r2_score\n",
    "from ipywidgets import interact\n",
    "\n",
    "direc = r'D:\\Documents\\AHC-BME\\PhD\\mPAP - vortex\\Results' #directory for patient-specific results\n",
    "\n",
    "PS = pd.read_csv(direc+'\\P-S_results.csv')\n",
    "x_data = np.array(PS['mPAP'])\n",
    "y_Lit = np.array(PS['t_vortex (lit)'])\n",
    "y_CFD = np.array(PS['t_vortex (CFD)'])\n",
    "y_4D = np.array(PS['t_vortex (4D)'])\n",
    "y_data = [y_Lit, y_CFD, y_4D]"
   ]
  },
  {
   "cell_type": "code",
   "execution_count": 2,
   "id": "d72eabf3",
   "metadata": {},
   "outputs": [
    {
     "ename": "NameError",
     "evalue": "name 'x' is not defined",
     "output_type": "error",
     "traceback": [
      "\u001b[1;31m---------------------------------------------------------------------------\u001b[0m",
      "\u001b[1;31mNameError\u001b[0m                                 Traceback (most recent call last)",
      "Cell \u001b[1;32mIn[2], line 43\u001b[0m\n\u001b[0;32m     40\u001b[0m   interact(update_plot, \u001b[38;5;241m*\u001b[39m\u001b[38;5;241m*\u001b[39mcheckboxes)\n\u001b[0;32m     42\u001b[0m \u001b[38;5;66;03m# Assuming x, y_Lit, y_CFD, and y_4D are available\u001b[39;00m\n\u001b[1;32m---> 43\u001b[0m x_data \u001b[38;5;241m=\u001b[39m \u001b[43mx\u001b[49m\n\u001b[0;32m     44\u001b[0m y_data \u001b[38;5;241m=\u001b[39m [y_Lit, y_CFD, y_4D]\n\u001b[0;32m     45\u001b[0m methods \u001b[38;5;241m=\u001b[39m [\u001b[38;5;124m'\u001b[39m\u001b[38;5;124mLiterature\u001b[39m\u001b[38;5;124m'\u001b[39m, \u001b[38;5;124m'\u001b[39m\u001b[38;5;124mCFD\u001b[39m\u001b[38;5;124m'\u001b[39m, \u001b[38;5;124m'\u001b[39m\u001b[38;5;124m4D\u001b[39m\u001b[38;5;124m'\u001b[39m]\n",
      "\u001b[1;31mNameError\u001b[0m: name 'x' is not defined"
     ]
    }
   ],
   "source": [
    "import matplotlib.pyplot as plt\n",
    "import ipywidgets as widgets\n",
    "from ipywidgets import interact\n",
    "\n",
    "def interactive_selection_plot(x_data, y_data_sets, methods):\n",
    "  \"\"\"\n",
    "  Creates an interactive plot with multiple y-data sets, allowing users to select which sets to display.\n",
    "\n",
    "  Args:\n",
    "      x_data: A list or array of x-values.\n",
    "      y_data_sets: A list of lists or arrays, each representing a y-data set.\n",
    "  \"\"\"\n",
    "\n",
    "  def update_plot(**kwargs):\n",
    "    \"\"\"\n",
    "    Updates the plot with the selected y-data sets.\n",
    "\n",
    "    Args:\n",
    "      kwargs: A dictionary of checkbox names (e.g., 'checkbox_1') and their corresponding boolean values.\n",
    "    \"\"\"\n",
    "    plt.figure(figsize=(8, 6))\n",
    "    for i, (checkbox_name, selected) in enumerate(kwargs.items()):\n",
    "      if selected:\n",
    "        label = methods[i] # Extract dataset name from checkbox name\n",
    "        plt.plot(x_data, y_data_sets[i], 'o', label=label)\n",
    "    plt.xlabel('X')\n",
    "    plt.ylabel('Y')\n",
    "    plt.title('Interactive Selection Plot')\n",
    "    plt.legend()\n",
    "    plt.grid(True)\n",
    "    plt.show()\n",
    "\n",
    "  # Create checkboxes for each data set\n",
    "  checkboxes = {}\n",
    "  for i, y_data_set in enumerate(y_data_sets):\n",
    "    checkbox = widgets.Checkbox(value=True, description=str(methods[i]))\n",
    "    checkboxes[f'checkbox_{i+1}'] = checkbox\n",
    "\n",
    "  # Create the interactive plot\n",
    "  interact(update_plot, **checkboxes)\n",
    "\n",
    "# Assuming x, y_Lit, y_CFD, and y_4D are available\n",
    "x_data = x\n",
    "y_data = [y_Lit, y_CFD, y_4D]\n",
    "methods = ['Literature', 'CFD', '4D']\n",
    "interactive_selection_plot(x_data, y_data, methods)"
   ]
  },
  {
   "cell_type": "code",
   "execution_count": 4,
   "id": "efc8d4b0",
   "metadata": {},
   "outputs": [
    {
     "data": {
      "application/vnd.jupyter.widget-view+json": {
       "model_id": "29e870d903e446019aaefe888b3c84bd",
       "version_major": 2,
       "version_minor": 0
      },
      "text/plain": [
       "interactive(children=(Checkbox(value=True, description='Literature'), Checkbox(value=True, description='CFD'),…"
      ]
     },
     "metadata": {},
     "output_type": "display_data"
    }
   ],
   "source": [
    "def interactive_selection_plot(x_data, y_data_sets, methods):\n",
    "  \"\"\"\n",
    "  Creates an interactive plot with multiple vortex duration sets, allowing users to select which method to display.\n",
    "\n",
    "  Args:\n",
    "      x_data: Pressure values (mPAP, in mmHg)\n",
    "      y_data_sets: A list of lists or arrays, each representing a method of vortex duration quantification.\n",
    "  \"\"\"\n",
    "\n",
    "  def update_plot(**kwargs):\n",
    "    \"\"\"\n",
    "    Updates the plot with the selected y-data sets and regression lines.\n",
    "\n",
    "    Args:\n",
    "      kwargs: A dictionary of checkbox names (e.g., 'checkbox_1') and their corresponding boolean values.\n",
    "    \"\"\"\n",
    "    \n",
    "    plt.figure(figsize=(8, 6))\n",
    "    for i, (checkbox_name, selected) in enumerate(kwargs.items()):\n",
    "      if selected:\n",
    "        label = methods[i]\n",
    "        plt.plot(x_data, y_data_sets[i], 'o', label=label)\n",
    "        \n",
    "        # Add regression line\n",
    "        x_data_PH = x_data[10:]-16\n",
    "        y_data_PH = y_data_sets[i][10:]\n",
    "        y_data_true = y_data_sets[0][10:]\n",
    "        reg = LinearRegression(fit_intercept=False).fit(x_data_PH.reshape(-1, 1), y_data_PH.reshape(-1, 1))\n",
    "        score = reg.coef_*np.transpose(x_data_PH)\n",
    "        r_squared = r2_score(y_data_true.reshape(-1, 1), y_data_PH.reshape(-1, 1))\n",
    "        plt.plot(x_data_PH+16, np.transpose(score), '--', label=f'{label} Regression, R2 = %.2f'%r_squared)\n",
    "        \n",
    "        \n",
    "    plt.xlabel('mPAP (mmHg)')\n",
    "    plt.ylabel('Vortex Duration')\n",
    "    plt.title('Interactive Selection Plot with Regression')\n",
    "    plt.legend()\n",
    "    plt.grid(True)\n",
    "    plt.show()\n",
    "\n",
    "  # Create checkboxes for each data set\n",
    "  checkboxes = {}\n",
    "  for i, y_data_set in enumerate(y_data_sets):\n",
    "    checkbox = widgets.Checkbox(value=True, description=str(methods[i]))\n",
    "    checkboxes[f'checkbox_{i+1}'] = checkbox\n",
    "\n",
    "  # Create the interactive plot\n",
    "  interact(update_plot, **checkboxes)\n",
    "\n",
    "\n",
    "methods = ['Literature', 'CFD', '4D']\n",
    "interactive_selection_plot(x_data, y_data, methods)"
   ]
  },
  {
   "cell_type": "code",
   "execution_count": 3,
   "id": "34d6b5f4",
   "metadata": {},
   "outputs": [
    {
     "data": {
      "application/vnd.jupyter.widget-view+json": {
       "model_id": "9d8b3d4bc21b40c98bd188f613b2fa30",
       "version_major": 2,
       "version_minor": 0
      },
      "text/plain": [
       "interactive(children=(Checkbox(value=True, description='CFD'), Checkbox(value=True, description='4D'), Output(…"
      ]
     },
     "metadata": {},
     "output_type": "display_data"
    }
   ],
   "source": [
    "def interactive_correspondence_plot(x_data, y_data_sets, methods):\n",
    "  \"\"\"\n",
    "  Creates an interactive plot with correspondence between literature predicted vortex duration and either CFD or 4D methods,\n",
    "  allowing users to select which method to display.\n",
    "\n",
    "  Args:\n",
    "      x_data: Literature predicted vortex duration\n",
    "      y_data_sets: A list of lists or arrays, each representing a method of vortex duration quantification.\n",
    "  \"\"\"\n",
    "\n",
    "  def update_plot(**kwargs):\n",
    "    \"\"\"\n",
    "    Updates the plot with the selected y-data sets and regression lines.\n",
    "\n",
    "    Args:\n",
    "      kwargs: A dictionary of checkbox names (e.g., 'checkbox_1') and their corresponding boolean values.\n",
    "    \"\"\"\n",
    "    \n",
    "    plt.figure(figsize=(8, 6))\n",
    "    for i, (checkbox_name, selected) in enumerate(kwargs.items()):\n",
    "      if selected:\n",
    "        label = methods[i]\n",
    "        plt.plot(x_data, y_data_sets[i], 'o', label=label)\n",
    "        \n",
    "        # Add regression line\n",
    "        reg = LinearRegression().fit(x_data.reshape(-1, 1), y_data_sets[i].reshape(-1,1))\n",
    "        score = reg.coef_*np.transpose(x_data)\n",
    "        r_squared = r2_score(x_data.reshape(-1, 1), y_data_sets[i].reshape(-1, 1))\n",
    "        plt.plot(x_data, np.transpose(score), '--', label=f'{label} Regression, R2 = %.2f'%r_squared)\n",
    "        \n",
    "    plt.xlabel('Literature vortex duration')\n",
    "    plt.ylabel('Method vortex duration')\n",
    "    plt.title('Interactive Selection Plot with Regression')\n",
    "    plt.legend()\n",
    "    plt.grid(True)\n",
    "    plt.show()\n",
    "\n",
    "  # Create checkboxes for each data set\n",
    "  checkboxes = {}\n",
    "  for i, y_data_set in enumerate(y_data_sets):\n",
    "    checkbox = widgets.Checkbox(value=True, description=str(methods[i]))\n",
    "    checkboxes[f'checkbox_{i+1}'] = checkbox\n",
    "\n",
    "  # Create the interactive plot\n",
    "  interact(update_plot, **checkboxes)\n",
    "\n",
    "new_y_data = [y_CFD, y_4D]\n",
    "methods = ['CFD', '4D']\n",
    "interactive_correspondence_plot(y_Lit, new_y_data, methods)"
   ]
  },
  {
   "cell_type": "code",
   "execution_count": null,
   "id": "7fbe8a30",
   "metadata": {},
   "outputs": [],
   "source": []
  }
 ],
 "metadata": {
  "kernelspec": {
   "display_name": "Python 3 (ipykernel)",
   "language": "python",
   "name": "python3"
  },
  "language_info": {
   "codemirror_mode": {
    "name": "ipython",
    "version": 3
   },
   "file_extension": ".py",
   "mimetype": "text/x-python",
   "name": "python",
   "nbconvert_exporter": "python",
   "pygments_lexer": "ipython3",
   "version": "3.10.9"
  }
 },
 "nbformat": 4,
 "nbformat_minor": 5
}
